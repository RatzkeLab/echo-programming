{
 "cells": [
  {
   "cell_type": "markdown",
   "metadata": {},
   "source": [
    "# Echo Programming Workflow Example\n",
    "\n",
    "This notebook demonstrates how to use the Echo programming tools for:\n",
    "1. Generating Echo transfer CSVs\n",
    "2. Creating minimap TSV for demultiplexing\n",
    "3. Generating heatmap mappings for visualization"
   ]
  },
  {
   "cell_type": "markdown",
   "metadata": {},
   "source": [
    "## 1. Generate Echo Transfer CSV"
   ]
  },
  {
   "cell_type": "code",
   "execution_count": null,
   "metadata": {},
   "outputs": [],
   "source": [
    "from echo_transfer import generate_primer_transfer_csv\n",
    "\n",
    "# Generate a transfer CSV for 96 primers from a 96-well source to a 384-well destination\n",
    "generate_primer_transfer_csv(\n",
    "    num_primers=96,\n",
    "    source_plate_format=96,\n",
    "    dest_plate_format=384,\n",
    "    transfer_volume_nl=100.0,\n",
    "    output_file='primer_transfer.csv'\n",
    ")\n",
    "\n",
    "# Preview the output\n",
    "import pandas as pd\n",
    "df = pd.read_csv('primer_transfer.csv')\n",
    "print(f\"Generated {len(df)} transfers\")\n",
    "df.head()"
   ]
  },
  {
   "cell_type": "markdown",
   "metadata": {},
   "source": [
    "## 2. Generate Minimap TSV for Demultiplexing"
   ]
  },
  {
   "cell_type": "code",
   "execution_count": null,
   "metadata": {},
   "outputs": [],
   "source": [
    "from generate_minimap_tsv import generate_minimap_tsv, generate_fasta\n",
    "\n",
    "# Generate TSV from barcode CSV\n",
    "generate_minimap_tsv(\n",
    "    input_csv='example_barcodes.csv',\n",
    "    output_tsv='barcodes_minimap.tsv',\n",
    "    include_well=False\n",
    ")\n",
    "\n",
    "# Also generate FASTA format\n",
    "generate_fasta(\n",
    "    input_csv='example_barcodes.csv',\n",
    "    output_fasta='barcodes.fasta',\n",
    "    include_well=True\n",
    ")\n",
    "\n",
    "# Preview the TSV output\n",
    "df = pd.read_csv('barcodes_minimap.tsv', sep='\\t', header=None, names=['Barcode', 'Sequence'])\n",
    "df.head()"
   ]
  },
  {
   "cell_type": "markdown",
   "metadata": {},
   "source": [
    "## 3. Generate Heatmap Mapping"
   ]
  },
  {
   "cell_type": "code",
   "execution_count": null,
   "metadata": {},
   "outputs": [],
   "source": [
    "from generate_heatmap_mapping import generate_heatmap_mapping, generate_plate_layout_matrix\n",
    "\n",
    "# Generate coordinate mapping\n",
    "generate_heatmap_mapping(\n",
    "    input_csv='example_barcodes.csv',\n",
    "    output_csv='heatmap_coordinates.csv'\n",
    ")\n",
    "\n",
    "# Generate plate layout matrix for direct plotting\n",
    "generate_plate_layout_matrix(\n",
    "    input_csv='example_barcodes.csv',\n",
    "    output_csv='plate_layout.csv',\n",
    "    plate_format=384\n",
    ")\n",
    "\n",
    "# Preview the coordinate mapping\n",
    "df = pd.read_csv('heatmap_coordinates.csv')\n",
    "df.head()"
   ]
  },
  {
   "cell_type": "markdown",
   "metadata": {},
   "source": [
    "## 4. Visualize Plate Layout as Heatmap"
   ]
  },
  {
   "cell_type": "code",
   "execution_count": null,
   "metadata": {},
   "outputs": [],
   "source": [
    "import matplotlib.pyplot as plt\n",
    "import numpy as np\n",
    "\n",
    "# Read the coordinate mapping\n",
    "coords = pd.read_csv('heatmap_coordinates.csv')\n",
    "\n",
    "# Create a mock data set (replace with your demultiplexing results)\n",
    "# For example, this could be read counts per barcode\n",
    "coords['ReadCount'] = np.random.randint(100, 10000, len(coords))\n",
    "\n",
    "# Create a 16x24 matrix for 384-well plate (adjust for 96-well: 8x12)\n",
    "plate_matrix = np.zeros((16, 24))\n",
    "\n",
    "for _, row in coords.iterrows():\n",
    "    plate_matrix[row['Row_Index'], row['Column_Index']] = row['ReadCount']\n",
    "\n",
    "# Plot heatmap\n",
    "fig, ax = plt.subplots(figsize=(14, 8))\n",
    "im = ax.imshow(plate_matrix, cmap='viridis', aspect='auto')\n",
    "\n",
    "# Set ticks and labels\n",
    "ax.set_xticks(range(24))\n",
    "ax.set_yticks(range(16))\n",
    "ax.set_xticklabels(range(1, 25))\n",
    "ax.set_yticklabels([chr(65+i) for i in range(16)])\n",
    "\n",
    "ax.set_xlabel('Column')\n",
    "ax.set_ylabel('Row')\n",
    "ax.set_title('384-Well Plate Read Count Heatmap')\n",
    "\n",
    "# Add colorbar\n",
    "plt.colorbar(im, ax=ax, label='Read Count')\n",
    "\n",
    "plt.tight_layout()\n",
    "plt.show()"
   ]
  },
  {
   "cell_type": "markdown",
   "metadata": {},
   "source": [
    "## Clean up temporary files"
   ]
  },
  {
   "cell_type": "code",
   "execution_count": null,
   "metadata": {},
   "outputs": [],
   "source": [
    "import os\n",
    "\n",
    "# Remove temporary files\n",
    "for f in ['primer_transfer.csv', 'barcodes_minimap.tsv', 'barcodes.fasta', \n",
    "          'heatmap_coordinates.csv', 'plate_layout.csv']:\n",
    "    if os.path.exists(f):\n",
    "        os.remove(f)\n",
    "        print(f\"Removed {f}\")"
   ]
  }
 ],
 "metadata": {
  "kernelspec": {
   "display_name": "Python 3",
   "language": "python",
   "name": "python3"
  },
  "language_info": {
   "codemirror_mode": {
    "name": "ipython",
    "version": 3
   },
   "file_extension": ".py",
   "mimetype": "text/x-python",
   "name": "python",
   "nbconvert_exporter": "python",
   "pygments_lexer": "ipython3",
   "version": "3.8.0"
  }
 },
 "nbformat": 4,
 "nbformat_minor": 4
}
