{
 "cells": [
  {
   "cell_type": "code",
   "execution_count": 1,
   "metadata": {
    "executionInfo": {
     "elapsed": 70,
     "status": "ok",
     "timestamp": 1747167022668,
     "user": {
      "displayName": "Karl Ringger",
      "userId": "11302302665000806441"
     },
     "user_tz": -120
    },
    "id": "rcAp-JFBbc91"
   },
   "outputs": [],
   "source": [
    "randseed = 250513"
   ]
  },
  {
   "cell_type": "code",
   "execution_count": null,
   "metadata": {
    "executionInfo": {
     "elapsed": 1238,
     "status": "ok",
     "timestamp": 1747167023899,
     "user": {
      "displayName": "Karl Ringger",
      "userId": "11302302665000806441"
     },
     "user_tz": -120
    },
    "id": "RFDGw-92eTwD"
   },
   "outputs": [],
   "source": [
    "# Refactored: import utilities for Echo transfer generation\n",
    "import pandas as pd\n",
    "from ai_suggested.echoscripts_utils import EchoTransferGenerator, wells384_grid, split_primers_from_grid\n",
    "\n",
    "# keep randseed defined in the first cell above\n",
    "generator = EchoTransferGenerator(randseed)\n",
    "# this reproduces the original behaviour (offset=12) and generates a full 16x24 plate\n",
    "df_transfer = generator.generate_transfer_df(volume_nl=750)\n",
    "display(df_transfer)\n",
    "df_transfer.to_csv(f\"helloPrimersRand{randseed}.csv\", index=False)"
   ]
  },
  {
   "cell_type": "code",
   "execution_count": null,
   "metadata": {
    "colab": {
     "base_uri": "https://localhost:8080/"
    },
    "executionInfo": {
     "elapsed": 50,
     "status": "ok",
     "timestamp": 1747167023968,
     "user": {
      "displayName": "Karl Ringger",
      "userId": "11302302665000806441"
     },
     "user_tz": -120
    },
    "id": "WkUjPb-hUBvJ",
    "outputId": "fd125576-030c-4864-9b54-1550d9a963d8"
   },
   "outputs": [
    {
     "name": "stdout",
     "output_type": "stream",
     "text": [
      "['A1' 'A3' 'A5' 'A7' 'A9' 'A11' 'A13' 'A15' 'A17' 'A19' 'A21' 'A23' 'C1'\n",
      " 'C3' 'C5' 'C7' 'C9' 'C11' 'C13' 'C15' 'C17' 'C19' 'C21' 'C23' 'E1' 'E3'\n",
      " 'E5' 'E7' 'E9' 'E11' 'E13' 'E15' 'E17' 'E19' 'E21' 'E23' 'G1' 'G3' 'G5'\n",
      " 'G7' 'G9' 'G11' 'G13' 'G15' 'G17' 'G19' 'G21' 'G23' 'I1' 'I3' 'I5' 'I7'\n",
      " 'I9' 'I11' 'I13' 'I15' 'I17' 'I19' 'I21' 'I23' 'K1' 'K3' 'K5' 'K7' 'K9'\n",
      " 'K11' 'K13' 'K15' 'K17' 'K19' 'K21' 'K23' 'M1' 'M3' 'M5' 'M7' 'M9' 'M11'\n",
      " 'M13' 'M15' 'M17' 'M19' 'M21' 'M23' 'O1' 'O3' 'O5' 'O7' 'O9' 'O11' 'O13'\n",
      " 'O15' 'O17' 'O19' 'O21' 'O23']\n",
      "['B2' 'B4' 'B6' 'B8' 'B10' 'B12' 'B14' 'B16' 'B18' 'B20' 'B22' 'B24' 'D2'\n",
      " 'D4' 'D6' 'D8' 'D10' 'D12' 'D14' 'D16' 'D18' 'D20' 'D22' 'D24' 'F2' 'F4'\n",
      " 'F6' 'F8' 'F10' 'F12' 'F14' 'F16' 'F18' 'F20' 'F22' 'F24' 'H2' 'H4' 'H6'\n",
      " 'H8' 'H10' 'H12' 'H14' 'H16' 'H18' 'H20' 'H22' 'H24' 'J2' 'J4' 'J6' 'J8'\n",
      " 'J10' 'J12' 'J14' 'J16' 'J18' 'J20' 'J22' 'J24' 'L2' 'L4' 'L6' 'L8' 'L10'\n",
      " 'L12' 'L14' 'L16' 'L18' 'L20' 'L22' 'L24' 'N2' 'N4' 'N6' 'N8' 'N10' 'N12'\n",
      " 'N14' 'N16' 'N18' 'N20' 'N22' 'N24' 'P2' 'P4' 'P6' 'P8' 'P10' 'P12' 'P14'\n",
      " 'P16' 'P18' 'P20' 'P22' 'P24']\n"
     ]
    }
   ],
   "source": [
    "# helper inspection: show primer pools (optional)\n",
    "fprimers_full, rprimers_full = generator.fprimers_full, generator.rprimers_full\n",
    "fprimers, rprimers = generator.sample_primers()\n",
    "print(\"Forward primer pool (full):\", fprimers_full)\n",
    "print(\"Reverse primer pool (full):\", rprimers_full)\n",
    "print(\"Active forward primers (after offset):\", fprimers[:10])\n",
    "print(\"Active reverse primers (after offset):\", rprimers[:10])"
   ]
  },
  {
   "cell_type": "code",
   "execution_count": null,
   "metadata": {
    "id": "nTEFBHIsAiZK"
   },
   "outputs": [],
   "source": []
  }
 ],
 "metadata": {
  "colab": {
   "provenance": []
  },
  "kernelspec": {
   "display_name": "Python 3",
   "name": "python3"
  },
  "language_info": {
   "name": "python"
  }
 },
 "nbformat": 4,
 "nbformat_minor": 0
}
